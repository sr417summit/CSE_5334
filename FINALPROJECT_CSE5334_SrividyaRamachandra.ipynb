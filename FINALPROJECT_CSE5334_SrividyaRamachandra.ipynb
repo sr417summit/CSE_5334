{
  "nbformat": 4,
  "nbformat_minor": 0,
  "metadata": {
    "colab": {
      "provenance": []
    },
    "kernelspec": {
      "name": "python3",
      "display_name": "Python 3"
    },
    "language_info": {
      "name": "python"
    }
  },
  "cells": [
    {
      "cell_type": "code",
      "execution_count": 1,
      "metadata": {
        "colab": {
          "base_uri": "https://localhost:8080/"
        },
        "id": "jUpCCstjbIxt",
        "outputId": "06e8d540-cc5d-4bd8-8868-279bf51ee893"
      },
      "outputs": [
        {
          "output_type": "stream",
          "name": "stderr",
          "text": [
            "[nltk_data] Downloading package punkt to /root/nltk_data...\n",
            "[nltk_data]   Unzipping tokenizers/punkt.zip.\n",
            "[nltk_data] Downloading package stopwords to /root/nltk_data...\n",
            "[nltk_data]   Unzipping corpora/stopwords.zip.\n",
            "[nltk_data] Downloading package stopwords to /root/nltk_data...\n",
            "[nltk_data]   Package stopwords is already up-to-date!\n"
          ]
        }
      ],
      "source": [
        "import pandas as pd\n",
        "import numpy as np\n",
        "import csv\n",
        "import pandas as pd\n",
        "import nltk\n",
        "from nltk.corpus import stopwords   \n",
        "from nltk.tokenize import word_tokenize \n",
        "import nltk\n",
        "nltk.download('punkt')\n",
        "nltk.download(\"stopwords\")\n",
        "import seaborn as sns\n",
        "from sklearn import datasets\n",
        "import pandas as pd\n",
        "import re\n",
        "from sklearn.linear_model import LogisticRegression\n",
        "from sklearn.model_selection import train_test_split\n",
        "from sklearn.metrics import precision_recall_curve\n",
        "from sklearn.metrics import plot_precision_recall_curve\n",
        "from sklearn.metrics import precision_score\n",
        "from sklearn.metrics import recall_score\n",
        "from sklearn.metrics import accuracy_score\n",
        "import matplotlib.pyplot as plt\n",
        "from sklearn.svm import SVC\n",
        "from sklearn.neighbors import KNeighborsClassifier\n",
        "from sklearn.metrics import confusion_matrix\n",
        "nltk.download(\"stopwords\")\n",
        "from nltk.tokenize import word_tokenize  \n",
        "from sklearn.pipeline import Pipeline\n",
        "from sklearn.feature_extraction.text import TfidfTransformer\n",
        "from sklearn.feature_extraction.text import CountVectorizer\n",
        "from sklearn.naive_bayes import MultinomialNB"
      ]
    },
    {
      "cell_type": "code",
      "source": [
        "import re, string\n",
        "import nltk\n",
        "from nltk.tokenize import word_tokenize\n",
        "from nltk.corpus import stopwords\n",
        "from nltk.tokenize import word_tokenize\n",
        "from nltk.stem import SnowballStemmer\n",
        "from nltk.corpus import wordnet\n",
        "from nltk.stem import WordNetLemmatizer\n",
        "nltk.download('punkt')\n",
        "nltk.download('averaged_perceptron_tagger')\n",
        "nltk.download('wordnet')\n",
        "from sklearn.feature_extraction.text import TfidfVectorizer\n",
        "from sklearn.feature_extraction.text import CountVectorizer"
      ],
      "metadata": {
        "colab": {
          "base_uri": "https://localhost:8080/"
        },
        "id": "Sw6MFCY7xn7V",
        "outputId": "a5c624ff-055b-418c-859b-92ea4dce6010"
      },
      "execution_count": 2,
      "outputs": [
        {
          "output_type": "stream",
          "name": "stderr",
          "text": [
            "[nltk_data] Downloading package punkt to /root/nltk_data...\n",
            "[nltk_data]   Package punkt is already up-to-date!\n",
            "[nltk_data] Downloading package averaged_perceptron_tagger to\n",
            "[nltk_data]     /root/nltk_data...\n",
            "[nltk_data]   Unzipping taggers/averaged_perceptron_tagger.zip.\n",
            "[nltk_data] Downloading package wordnet to /root/nltk_data...\n"
          ]
        }
      ]
    },
    {
      "cell_type": "code",
      "source": [
        "import pandas as pd\n",
        "df_s = pd.read_csv(\"Flipkart_Reviews - Electronics.csv\")\n",
        "df1 = pd.read_csv(\"Product Review Data.csv\")\n"
      ],
      "metadata": {
        "id": "jw3WbvRycSEc"
      },
      "execution_count": 3,
      "outputs": []
    },
    {
      "cell_type": "code",
      "source": [
        "l1 = df_s['product_title']\n",
        "lw = []\n",
        "for i in l1:\n",
        "   last_word = i.split()[-2] \n",
        "   lw.append(last_word)\n",
        "lw\n",
        "df_s['category'] = lw\n",
        "from sklearn.utils import shuffle\n",
        "df = shuffle(df_s)\n",
        "df = df.sample(frac = 0.5)"
      ],
      "metadata": {
        "id": "UqRP2HS3K0pn"
      },
      "execution_count": 4,
      "outputs": []
    },
    {
      "cell_type": "code",
      "source": [
        "l2 = df1['name']\n",
        "lw2 = []\n",
        "for i in l2:\n",
        "\n",
        "  lastword = i.split()[-1]\n",
        "  lw2.append(lastword)\n",
        "lw2\n",
        "\n",
        "df1['category'] = lw2"
      ],
      "metadata": {
        "id": "4sOQJqE_Lwot"
      },
      "execution_count": 5,
      "outputs": []
    },
    {
      "cell_type": "code",
      "source": [
        "df1['category'].unique()"
      ],
      "metadata": {
        "colab": {
          "base_uri": "https://localhost:8080/"
        },
        "id": "5ShlM-yYWY5e",
        "outputId": "604f0c81-6b4a-4cf0-d9ff-87ce6f67e6c4"
      },
      "execution_count": 6,
      "outputs": [
        {
          "output_type": "execute_result",
          "data": {
            "text/plain": [
              "array(['Paperwhite', 'Keyboard', '1st)', 'Fabric', 'Tangerine', '8.9\"',\n",
              "       'Leather', 'Blue', 'Controller', 'Tablet', 'White', 'Magenta',\n",
              "       'E-reader', 'Green', 'Black', '3G', 'Alexa', 'Walnut', 'Offers',\n",
              "       'TV', 'eReaders', 'Generation', 'Kindle', '7\"', 'Speaker', 'Phone',\n",
              "       'Dot', 'Headphones', 'Stick'], dtype=object)"
            ]
          },
          "metadata": {},
          "execution_count": 6
        }
      ]
    },
    {
      "cell_type": "code",
      "source": [
        "df1 = df1.replace(to_replace=[\"Keyboard\"],\n",
        "           value=\"Accessories\")\n",
        "df1 = df1.replace(\"Paperwhite\",\"eReaders\")\n",
        "df1 = df1.replace(to_replace=[\"Tablet\"],\n",
        "           value=\"eReaders\")\n",
        "df1 = df1.replace(to_replace=[\"Fabric\"],\n",
        "           value=\"Accessories\")\n",
        "df1 = df1.replace(to_replace=[\"Walnut\"],\n",
        "           value=\"Accessories\")\n",
        "df1 = df1.replace(to_replace=[\"Tangerine\"],\n",
        "           value=\"Accessories\")\n",
        "df1 = df1.replace(to_replace=['White'],\n",
        "           value='Accessories')\n",
        "df1 = df1.replace(to_replace=['Magenta'],\n",
        "           value='Accessories')\n",
        "df1 = df1.replace(to_replace=['Black'],\n",
        "           value='Accessories')\n",
        "df1 = df1.replace(to_replace=['Green'],\n",
        "           value='Accessories')\n",
        "df1 = df1.replace(to_replace=['Blue'],\n",
        "           value='Accessories')\n",
        "df1 = df1.replace(to_replace=['Leather'],\n",
        "           value='Accessories')\n",
        "df1 = df1.replace(to_replace=['Controller'],\n",
        "           value='Game Controller')\n",
        "df1 = df1.replace(to_replace=['E-reader'],\n",
        "           value='eReaders')\n",
        "df1 = df1.replace(to_replace=['8.9\"'],\n",
        "           value='eReaders')\n",
        "df1 = df1.replace(to_replace=['7\"'],\n",
        "           value='eReaders')\n",
        "df1 = df1.replace(to_replace=['1st'],\n",
        "           value='TV')\n",
        "df1 = df1.replace(to_replace=['3G'],\n",
        "           value='eReaders')\n",
        "df1 = df1.replace(to_replace=['Alexa'],\n",
        "           value='eReaders')\n",
        "df1 = df1.replace(to_replace=['Phone'],\n",
        "           value='Accessories')\n",
        "\n",
        "df1 = df1.replace(to_replace=['Stick'],\n",
        "           value='Accessories')\n",
        "\n",
        "df1 = df1.replace(to_replace=['1st)'],\n",
        "           value='TV')\n",
        "\n",
        "df1 = df1.replace(to_replace=['Dot'],\n",
        "           value='Accessories')\n",
        "\n",
        "df1 = df1.replace(to_replace=['Offers'],\n",
        "           value='eReaders')\n",
        "df1 = df1.replace(to_replace=['Generation'],\n",
        "           value='Accessories')\n",
        "df1 = df1.replace(to_replace=['Kindle'],\n",
        "           value='eReaders')\n",
        "df1 = df1.replace(to_replace=['Game Controller'],\n",
        "           value='Accessories')\n",
        "df = df.replace(to_replace=['Bluetooth'],\n",
        "           value='Headphones')\n",
        "df = df.replace(to_replace=['Wired'],\n",
        "           value='Headphones')"
      ],
      "metadata": {
        "id": "fLuKbmk9bd48"
      },
      "execution_count": 7,
      "outputs": []
    },
    {
      "cell_type": "code",
      "source": [
        "df_final = df[['category','summary','review','date']].copy()\n",
        "df_final.head(5)\n"
      ],
      "metadata": {
        "colab": {
          "base_uri": "https://localhost:8080/",
          "height": 206
        },
        "id": "p7MlP0yvm8rq",
        "outputId": "c4a33179-8e6a-4f7f-a9bb-456ec81d603d"
      },
      "execution_count": 8,
      "outputs": [
        {
          "output_type": "execute_result",
          "data": {
            "text/plain": [
              "        category              summary  \\\n",
              "112   Headphones          Really Nice   \n",
              "7128  Headphones          Really Nice   \n",
              "5044  Headphones       Decent product   \n",
              "8151  Headphones  Could be way better   \n",
              "8399  Headphones       Simply awesome   \n",
              "\n",
              "                                                 review          date  \n",
              "112   Review after 20 days of use.First of all bass ...  8 months ago  \n",
              "7128                                            Not Bad    5 days ago  \n",
              "5044  After use of 5 months my review is this produc...     1 day ago  \n",
              "8151  It's not as good as shown  and not properly fi...    4 days ago  \n",
              "8399                                      Really nice..    8 days ago  "
            ],
            "text/html": [
              "\n",
              "  <div id=\"df-5b149bcd-3d84-4d97-aa34-c3e6b5e440ab\">\n",
              "    <div class=\"colab-df-container\">\n",
              "      <div>\n",
              "<style scoped>\n",
              "    .dataframe tbody tr th:only-of-type {\n",
              "        vertical-align: middle;\n",
              "    }\n",
              "\n",
              "    .dataframe tbody tr th {\n",
              "        vertical-align: top;\n",
              "    }\n",
              "\n",
              "    .dataframe thead th {\n",
              "        text-align: right;\n",
              "    }\n",
              "</style>\n",
              "<table border=\"1\" class=\"dataframe\">\n",
              "  <thead>\n",
              "    <tr style=\"text-align: right;\">\n",
              "      <th></th>\n",
              "      <th>category</th>\n",
              "      <th>summary</th>\n",
              "      <th>review</th>\n",
              "      <th>date</th>\n",
              "    </tr>\n",
              "  </thead>\n",
              "  <tbody>\n",
              "    <tr>\n",
              "      <th>112</th>\n",
              "      <td>Headphones</td>\n",
              "      <td>Really Nice</td>\n",
              "      <td>Review after 20 days of use.First of all bass ...</td>\n",
              "      <td>8 months ago</td>\n",
              "    </tr>\n",
              "    <tr>\n",
              "      <th>7128</th>\n",
              "      <td>Headphones</td>\n",
              "      <td>Really Nice</td>\n",
              "      <td>Not Bad</td>\n",
              "      <td>5 days ago</td>\n",
              "    </tr>\n",
              "    <tr>\n",
              "      <th>5044</th>\n",
              "      <td>Headphones</td>\n",
              "      <td>Decent product</td>\n",
              "      <td>After use of 5 months my review is this produc...</td>\n",
              "      <td>1 day ago</td>\n",
              "    </tr>\n",
              "    <tr>\n",
              "      <th>8151</th>\n",
              "      <td>Headphones</td>\n",
              "      <td>Could be way better</td>\n",
              "      <td>It's not as good as shown  and not properly fi...</td>\n",
              "      <td>4 days ago</td>\n",
              "    </tr>\n",
              "    <tr>\n",
              "      <th>8399</th>\n",
              "      <td>Headphones</td>\n",
              "      <td>Simply awesome</td>\n",
              "      <td>Really nice..</td>\n",
              "      <td>8 days ago</td>\n",
              "    </tr>\n",
              "  </tbody>\n",
              "</table>\n",
              "</div>\n",
              "      <button class=\"colab-df-convert\" onclick=\"convertToInteractive('df-5b149bcd-3d84-4d97-aa34-c3e6b5e440ab')\"\n",
              "              title=\"Convert this dataframe to an interactive table.\"\n",
              "              style=\"display:none;\">\n",
              "        \n",
              "  <svg xmlns=\"http://www.w3.org/2000/svg\" height=\"24px\"viewBox=\"0 0 24 24\"\n",
              "       width=\"24px\">\n",
              "    <path d=\"M0 0h24v24H0V0z\" fill=\"none\"/>\n",
              "    <path d=\"M18.56 5.44l.94 2.06.94-2.06 2.06-.94-2.06-.94-.94-2.06-.94 2.06-2.06.94zm-11 1L8.5 8.5l.94-2.06 2.06-.94-2.06-.94L8.5 2.5l-.94 2.06-2.06.94zm10 10l.94 2.06.94-2.06 2.06-.94-2.06-.94-.94-2.06-.94 2.06-2.06.94z\"/><path d=\"M17.41 7.96l-1.37-1.37c-.4-.4-.92-.59-1.43-.59-.52 0-1.04.2-1.43.59L10.3 9.45l-7.72 7.72c-.78.78-.78 2.05 0 2.83L4 21.41c.39.39.9.59 1.41.59.51 0 1.02-.2 1.41-.59l7.78-7.78 2.81-2.81c.8-.78.8-2.07 0-2.86zM5.41 20L4 18.59l7.72-7.72 1.47 1.35L5.41 20z\"/>\n",
              "  </svg>\n",
              "      </button>\n",
              "      \n",
              "  <style>\n",
              "    .colab-df-container {\n",
              "      display:flex;\n",
              "      flex-wrap:wrap;\n",
              "      gap: 12px;\n",
              "    }\n",
              "\n",
              "    .colab-df-convert {\n",
              "      background-color: #E8F0FE;\n",
              "      border: none;\n",
              "      border-radius: 50%;\n",
              "      cursor: pointer;\n",
              "      display: none;\n",
              "      fill: #1967D2;\n",
              "      height: 32px;\n",
              "      padding: 0 0 0 0;\n",
              "      width: 32px;\n",
              "    }\n",
              "\n",
              "    .colab-df-convert:hover {\n",
              "      background-color: #E2EBFA;\n",
              "      box-shadow: 0px 1px 2px rgba(60, 64, 67, 0.3), 0px 1px 3px 1px rgba(60, 64, 67, 0.15);\n",
              "      fill: #174EA6;\n",
              "    }\n",
              "\n",
              "    [theme=dark] .colab-df-convert {\n",
              "      background-color: #3B4455;\n",
              "      fill: #D2E3FC;\n",
              "    }\n",
              "\n",
              "    [theme=dark] .colab-df-convert:hover {\n",
              "      background-color: #434B5C;\n",
              "      box-shadow: 0px 1px 3px 1px rgba(0, 0, 0, 0.15);\n",
              "      filter: drop-shadow(0px 1px 2px rgba(0, 0, 0, 0.3));\n",
              "      fill: #FFFFFF;\n",
              "    }\n",
              "  </style>\n",
              "\n",
              "      <script>\n",
              "        const buttonEl =\n",
              "          document.querySelector('#df-5b149bcd-3d84-4d97-aa34-c3e6b5e440ab button.colab-df-convert');\n",
              "        buttonEl.style.display =\n",
              "          google.colab.kernel.accessAllowed ? 'block' : 'none';\n",
              "\n",
              "        async function convertToInteractive(key) {\n",
              "          const element = document.querySelector('#df-5b149bcd-3d84-4d97-aa34-c3e6b5e440ab');\n",
              "          const dataTable =\n",
              "            await google.colab.kernel.invokeFunction('convertToInteractive',\n",
              "                                                     [key], {});\n",
              "          if (!dataTable) return;\n",
              "\n",
              "          const docLinkHtml = 'Like what you see? Visit the ' +\n",
              "            '<a target=\"_blank\" href=https://colab.research.google.com/notebooks/data_table.ipynb>data table notebook</a>'\n",
              "            + ' to learn more about interactive tables.';\n",
              "          element.innerHTML = '';\n",
              "          dataTable['output_type'] = 'display_data';\n",
              "          await google.colab.output.renderOutput(dataTable, element);\n",
              "          const docLink = document.createElement('div');\n",
              "          docLink.innerHTML = docLinkHtml;\n",
              "          element.appendChild(docLink);\n",
              "        }\n",
              "      </script>\n",
              "    </div>\n",
              "  </div>\n",
              "  "
            ]
          },
          "metadata": {},
          "execution_count": 8
        }
      ]
    },
    {
      "cell_type": "code",
      "source": [
        "#creating headers for the first dataset\n",
        "df_final = df[['category','summary','review','date']].copy()\n",
        "df_final.head(5)\n",
        "#creating headers for the second dataset\n",
        "df2 = pd.DataFrame(df1)\n",
        "df2.rename(columns = {'reviews.text':'review', 'reviews.title':'summary',\n",
        "                              'dateAdded':'date'}, inplace = True)\n",
        "df2_final = df2[['category','summary','review','date']].copy()\n",
        "#Merging the two datasets that wll be used for modelling\n",
        "df3_s = pd.concat([df_final,df2_final], ignore_index=True)\n"
      ],
      "metadata": {
        "id": "HsHZ8Ij3tHEd"
      },
      "execution_count": 9,
      "outputs": []
    },
    {
      "cell_type": "code",
      "source": [
        "#Shuffling the dataset\n",
        "from sklearn.utils import shuffle\n",
        "df3 = shuffle(df3_s)\n",
        "df3.head(5)"
      ],
      "metadata": {
        "id": "-QmSOna3HkSG",
        "colab": {
          "base_uri": "https://localhost:8080/",
          "height": 206
        },
        "outputId": "ee8d2bd9-8e37-405e-e86a-8b04a991bd1a"
      },
      "execution_count": 10,
      "outputs": [
        {
          "output_type": "execute_result",
          "data": {
            "text/plain": [
              "        category            summary  \\\n",
              "3142  Headphones             Super!   \n",
              "889   Headphones       Does the job   \n",
              "3210  Headphones          Must buy!   \n",
              "6073     Speaker   Good alt to echo   \n",
              "3652  Headphones  Terrific purchase   \n",
              "\n",
              "                                                 review                  date  \n",
              "3142                                   💛All in One🎧😍👍👍👍             Nov, 2019  \n",
              "889   While playing game sound come after some sec i...          7 months ago  \n",
              "3210  Good one. I Bought this and MI Basics together...             May, 2019  \n",
              "6073  This is a good alternative to the amazon echo....  2017-01-04T03:51:17Z  \n",
              "3652           Nice one, this is best one in best price           16 days ago  "
            ],
            "text/html": [
              "\n",
              "  <div id=\"df-2bdc5e35-5ce1-491b-aca6-356baaa09d4e\">\n",
              "    <div class=\"colab-df-container\">\n",
              "      <div>\n",
              "<style scoped>\n",
              "    .dataframe tbody tr th:only-of-type {\n",
              "        vertical-align: middle;\n",
              "    }\n",
              "\n",
              "    .dataframe tbody tr th {\n",
              "        vertical-align: top;\n",
              "    }\n",
              "\n",
              "    .dataframe thead th {\n",
              "        text-align: right;\n",
              "    }\n",
              "</style>\n",
              "<table border=\"1\" class=\"dataframe\">\n",
              "  <thead>\n",
              "    <tr style=\"text-align: right;\">\n",
              "      <th></th>\n",
              "      <th>category</th>\n",
              "      <th>summary</th>\n",
              "      <th>review</th>\n",
              "      <th>date</th>\n",
              "    </tr>\n",
              "  </thead>\n",
              "  <tbody>\n",
              "    <tr>\n",
              "      <th>3142</th>\n",
              "      <td>Headphones</td>\n",
              "      <td>Super!</td>\n",
              "      <td>💛All in One🎧😍👍👍👍</td>\n",
              "      <td>Nov, 2019</td>\n",
              "    </tr>\n",
              "    <tr>\n",
              "      <th>889</th>\n",
              "      <td>Headphones</td>\n",
              "      <td>Does the job</td>\n",
              "      <td>While playing game sound come after some sec i...</td>\n",
              "      <td>7 months ago</td>\n",
              "    </tr>\n",
              "    <tr>\n",
              "      <th>3210</th>\n",
              "      <td>Headphones</td>\n",
              "      <td>Must buy!</td>\n",
              "      <td>Good one. I Bought this and MI Basics together...</td>\n",
              "      <td>May, 2019</td>\n",
              "    </tr>\n",
              "    <tr>\n",
              "      <th>6073</th>\n",
              "      <td>Speaker</td>\n",
              "      <td>Good alt to echo</td>\n",
              "      <td>This is a good alternative to the amazon echo....</td>\n",
              "      <td>2017-01-04T03:51:17Z</td>\n",
              "    </tr>\n",
              "    <tr>\n",
              "      <th>3652</th>\n",
              "      <td>Headphones</td>\n",
              "      <td>Terrific purchase</td>\n",
              "      <td>Nice one, this is best one in best price</td>\n",
              "      <td>16 days ago</td>\n",
              "    </tr>\n",
              "  </tbody>\n",
              "</table>\n",
              "</div>\n",
              "      <button class=\"colab-df-convert\" onclick=\"convertToInteractive('df-2bdc5e35-5ce1-491b-aca6-356baaa09d4e')\"\n",
              "              title=\"Convert this dataframe to an interactive table.\"\n",
              "              style=\"display:none;\">\n",
              "        \n",
              "  <svg xmlns=\"http://www.w3.org/2000/svg\" height=\"24px\"viewBox=\"0 0 24 24\"\n",
              "       width=\"24px\">\n",
              "    <path d=\"M0 0h24v24H0V0z\" fill=\"none\"/>\n",
              "    <path d=\"M18.56 5.44l.94 2.06.94-2.06 2.06-.94-2.06-.94-.94-2.06-.94 2.06-2.06.94zm-11 1L8.5 8.5l.94-2.06 2.06-.94-2.06-.94L8.5 2.5l-.94 2.06-2.06.94zm10 10l.94 2.06.94-2.06 2.06-.94-2.06-.94-.94-2.06-.94 2.06-2.06.94z\"/><path d=\"M17.41 7.96l-1.37-1.37c-.4-.4-.92-.59-1.43-.59-.52 0-1.04.2-1.43.59L10.3 9.45l-7.72 7.72c-.78.78-.78 2.05 0 2.83L4 21.41c.39.39.9.59 1.41.59.51 0 1.02-.2 1.41-.59l7.78-7.78 2.81-2.81c.8-.78.8-2.07 0-2.86zM5.41 20L4 18.59l7.72-7.72 1.47 1.35L5.41 20z\"/>\n",
              "  </svg>\n",
              "      </button>\n",
              "      \n",
              "  <style>\n",
              "    .colab-df-container {\n",
              "      display:flex;\n",
              "      flex-wrap:wrap;\n",
              "      gap: 12px;\n",
              "    }\n",
              "\n",
              "    .colab-df-convert {\n",
              "      background-color: #E8F0FE;\n",
              "      border: none;\n",
              "      border-radius: 50%;\n",
              "      cursor: pointer;\n",
              "      display: none;\n",
              "      fill: #1967D2;\n",
              "      height: 32px;\n",
              "      padding: 0 0 0 0;\n",
              "      width: 32px;\n",
              "    }\n",
              "\n",
              "    .colab-df-convert:hover {\n",
              "      background-color: #E2EBFA;\n",
              "      box-shadow: 0px 1px 2px rgba(60, 64, 67, 0.3), 0px 1px 3px 1px rgba(60, 64, 67, 0.15);\n",
              "      fill: #174EA6;\n",
              "    }\n",
              "\n",
              "    [theme=dark] .colab-df-convert {\n",
              "      background-color: #3B4455;\n",
              "      fill: #D2E3FC;\n",
              "    }\n",
              "\n",
              "    [theme=dark] .colab-df-convert:hover {\n",
              "      background-color: #434B5C;\n",
              "      box-shadow: 0px 1px 3px 1px rgba(0, 0, 0, 0.15);\n",
              "      filter: drop-shadow(0px 1px 2px rgba(0, 0, 0, 0.3));\n",
              "      fill: #FFFFFF;\n",
              "    }\n",
              "  </style>\n",
              "\n",
              "      <script>\n",
              "        const buttonEl =\n",
              "          document.querySelector('#df-2bdc5e35-5ce1-491b-aca6-356baaa09d4e button.colab-df-convert');\n",
              "        buttonEl.style.display =\n",
              "          google.colab.kernel.accessAllowed ? 'block' : 'none';\n",
              "\n",
              "        async function convertToInteractive(key) {\n",
              "          const element = document.querySelector('#df-2bdc5e35-5ce1-491b-aca6-356baaa09d4e');\n",
              "          const dataTable =\n",
              "            await google.colab.kernel.invokeFunction('convertToInteractive',\n",
              "                                                     [key], {});\n",
              "          if (!dataTable) return;\n",
              "\n",
              "          const docLinkHtml = 'Like what you see? Visit the ' +\n",
              "            '<a target=\"_blank\" href=https://colab.research.google.com/notebooks/data_table.ipynb>data table notebook</a>'\n",
              "            + ' to learn more about interactive tables.';\n",
              "          element.innerHTML = '';\n",
              "          dataTable['output_type'] = 'display_data';\n",
              "          await google.colab.output.renderOutput(dataTable, element);\n",
              "          const docLink = document.createElement('div');\n",
              "          docLink.innerHTML = docLinkHtml;\n",
              "          element.appendChild(docLink);\n",
              "        }\n",
              "      </script>\n",
              "    </div>\n",
              "  </div>\n",
              "  "
            ]
          },
          "metadata": {},
          "execution_count": 10
        }
      ]
    },
    {
      "cell_type": "code",
      "source": [
        "#product categories in dataset\n",
        "vc=df3['category'].value_counts()\n",
        "sns.barplot(vc.index,vc)"
      ],
      "metadata": {
        "colab": {
          "base_uri": "https://localhost:8080/",
          "height": 339
        },
        "id": "72hTwE3ryQ8A",
        "outputId": "d55951f9-9317-4551-8563-567a2aaf9477"
      },
      "execution_count": 11,
      "outputs": [
        {
          "output_type": "stream",
          "name": "stderr",
          "text": [
            "/usr/local/lib/python3.8/dist-packages/seaborn/_decorators.py:36: FutureWarning: Pass the following variables as keyword args: x, y. From version 0.12, the only valid positional argument will be `data`, and passing other arguments without an explicit keyword will result in an error or misinterpretation.\n",
            "  warnings.warn(\n"
          ]
        },
        {
          "output_type": "execute_result",
          "data": {
            "text/plain": [
              "<matplotlib.axes._subplots.AxesSubplot at 0x7fd04098aa00>"
            ]
          },
          "metadata": {},
          "execution_count": 11
        },
        {
          "output_type": "display_data",
          "data": {
            "text/plain": [
              "<Figure size 432x288 with 1 Axes>"
            ],
            "image/png": "[encoded data removed]"
          },
          "metadata": {
            "needs_background": "light"
          }
        }
      ]
    },
    {
      "cell_type": "code",
      "source": [
        "replace_with_space = re.compile('[/(){}\\[\\]\\|@,;]')\n",
        "remove_symbols = re.compile('[^a-z]')\n",
        "stop_words = set(stopwords.words('english'))"
      ],
      "metadata": {
        "id": "UAFzMEH08AHx"
      },
      "execution_count": 12,
      "outputs": []
    },
    {
      "cell_type": "code",
      "source": [
        "def clean_text(sent):\n",
        "    word_tokens = word_tokenize(sent)\n",
        "    # lowercase text\n",
        "    sent = sent.lower() \n",
        "    # replace REPLACE_BY_SPACE_RE symbols by space in text\n",
        "    sent = replace_with_space.sub(' ', sent) \n",
        "    # delete symbols which are in BAD_SYMBOLS_RE from text\n",
        "    sent = remove_symbols.sub(' ', sent) \n",
        "    return sent"
      ],
      "metadata": {
        "id": "6MIZZUwR8QYB"
      },
      "execution_count": 13,
      "outputs": []
    },
    {
      "cell_type": "code",
      "source": [
        "df3['date_review'] = df3['review'] + df3['date']"
      ],
      "metadata": {
        "id": "_WeRq81_lqCO"
      },
      "execution_count": 14,
      "outputs": []
    },
    {
      "cell_type": "code",
      "source": [
        "#creating a new feature which combines date with review\n",
        "df3['date_review'] = df3['review'] + df3['date']\n",
        "df3['review_summary_clean'] = df3['date_review'].apply(clean_text)\n",
        "df3['review_summary_clean']"
      ],
      "metadata": {
        "id": "QEvbHUmi-65t",
        "colab": {
          "base_uri": "https://localhost:8080/"
        },
        "outputId": "801dcbae-f789-4de0-b859-15d0e80d7997"
      },
      "execution_count": 15,
      "outputs": [
        {
          "output_type": "execute_result",
          "data": {
            "text/plain": [
              "3142                             all in one     nov      \n",
              "889     while playing game sound come after some sec i...\n",
              "3210    good one  i bought this and mi basics together...\n",
              "6073    this is a good alternative to the amazon echo ...\n",
              "3652    nice one  this is best one in best price   day...\n",
              "                              ...                        \n",
              "2077    good product at this price point   bass  sound...\n",
              "4708    i already had an original kindle paperwhite an...\n",
              "3082    product is  must purchase type   however i exp...\n",
              "5829    i own the echo  and love the product  so i pur...\n",
              "2831    can t explain in word outstanding and thank to...\n",
              "Name: review_summary_clean, Length: 6284, dtype: object"
            ]
          },
          "metadata": {},
          "execution_count": 15
        }
      ]
    },
    {
      "cell_type": "code",
      "source": [
        "\n",
        "X = df3.review_summary_clean\n",
        "y =  df3.category\n",
        "X_train, X_test,y_train,y_test = train_test_split(X,y,test_size=0.30,random_state = 42)"
      ],
      "metadata": {
        "id": "vAsZDwnYN986"
      },
      "execution_count": 16,
      "outputs": []
    },
    {
      "cell_type": "code",
      "source": [
        "pred_list = []\n",
        "labels = df3.category.unique().tolist()\n",
        "import logging\n",
        "import time\n",
        "nb = Pipeline([('vect', CountVectorizer()),\n",
        "               ('tfidf', TfidfTransformer()),\n",
        "               ('clf', MultinomialNB()),\n",
        "              ])\n",
        "start = time.time()\n",
        "nb.fit(X_train, y_train)\n",
        "stop = time.time()\n",
        "\n",
        "nbc_time = start-stop\n",
        "#%%time\n",
        "from sklearn.metrics import classification_report\n",
        "y_pred = nb.predict(X_test)\n",
        "pred_list.append(y_pred)\n",
        "print('accuracy %s' % accuracy_score(y_pred, y_test))\n",
        "acc = (accuracy_score(y_pred, y_test))\n",
        "print(classification_report(y_test, y_pred,target_names=labels))\n",
        "precision_nbc = precision_score(y_test, y_pred,pos_label='positive',\n",
        "                                           average='macro')\n",
        "recall_nbc = recall_score(y_test, y_pred,pos_label='positive',\n",
        "                                           average='macro')\n",
        "accuracy_nbc = accuracy_score(y_test, y_pred)\n",
        "accuracyl = []\n",
        "precisionl = []\n",
        "recalll = []\n",
        "\n",
        "accuracyl.append(accuracy_nbc)\n",
        "precisionl.append(precision_nbc)\n",
        "recalll.append(recall_nbc)\n"
      ],
      "metadata": {
        "id": "ecz3-iGNOYVm",
        "colab": {
          "base_uri": "https://localhost:8080/"
        },
        "outputId": "3cb312d9-1443-407a-ba3e-d547be5431d6"
      },
      "execution_count": 17,
      "outputs": [
        {
          "output_type": "stream",
          "name": "stdout",
          "text": [
            "accuracy 0.8260869565217391\n",
            "              precision    recall  f1-score   support\n",
            "\n",
            "  Headphones       1.00      0.05      0.09       104\n",
            "     Speaker       0.82      1.00      0.90      1416\n",
            "          TV       0.97      0.17      0.28       181\n",
            "    eReaders       1.00      0.39      0.56        70\n",
            " Accessories       0.79      0.70      0.74       115\n",
            "\n",
            "    accuracy                           0.83      1886\n",
            "   macro avg       0.92      0.46      0.51      1886\n",
            "weighted avg       0.85      0.83      0.78      1886\n",
            "\n"
          ]
        },
        {
          "output_type": "stream",
          "name": "stderr",
          "text": [
            "/usr/local/lib/python3.8/dist-packages/sklearn/metrics/_classification.py:1370: UserWarning: Note that pos_label (set to 'positive') is ignored when average != 'binary' (got 'macro'). You may use labels=[pos_label] to specify a single positive class.\n",
            "  warnings.warn(\n",
            "/usr/local/lib/python3.8/dist-packages/sklearn/metrics/_classification.py:1370: UserWarning: Note that pos_label (set to 'positive') is ignored when average != 'binary' (got 'macro'). You may use labels=[pos_label] to specify a single positive class.\n",
            "  warnings.warn(\n"
          ]
        }
      ]
    },
    {
      "cell_type": "code",
      "source": [
        "actvspred = pd.DataFrame()\n",
        "actvspred['TestReviews'] = X_test\n",
        "actvspred['actual'] = y_test\n",
        "actvspred['predicted'] = y_pred\n",
        "print(actvspred)"
      ],
      "metadata": {
        "id": "fWIublz3FNKf",
        "colab": {
          "base_uri": "https://localhost:8080/"
        },
        "outputId": "526ebf24-5c95-4ea1-cd4e-cca93a9bac13"
      },
      "execution_count": 209,
      "outputs": [
        {
          "output_type": "stream",
          "name": "stdout",
          "text": [
            "                                            TestReviews       actual  \\\n",
            "2430  worst product don t go for it worst battery ba...   Headphones   \n",
            "1873  sound for listening music is sufficient and ba...   Headphones   \n",
            "1930  sound quality super battery backup super quali...   Headphones   \n",
            "5299  if you read my fire tv review you know that i ...     eReaders   \n",
            "6084  i like moshi s anti glare screen protectors so...  Accessories   \n",
            "...                                                 ...          ...   \n",
            "4237  sounds is very low after some days i buy   pai...   Headphones   \n",
            "669            battery back up only   hours  months ago   Headphones   \n",
            "4445  under    rs this was best deal earphone  gives...   Headphones   \n",
            "3223  very bad product i had got pain in my ear afte...   Headphones   \n",
            "4250  ten days work properly  then while calling vol...   Headphones   \n",
            "\n",
            "       predicted  \n",
            "2430  Headphones  \n",
            "1873  Headphones  \n",
            "1930  Headphones  \n",
            "5299    eReaders  \n",
            "6084  Headphones  \n",
            "...          ...  \n",
            "4237  Headphones  \n",
            "669   Headphones  \n",
            "4445  Headphones  \n",
            "3223  Headphones  \n",
            "4250  Headphones  \n",
            "\n",
            "[1886 rows x 3 columns]\n"
          ]
        }
      ]
    },
    {
      "cell_type": "code",
      "source": [
        "\n",
        "from sklearn.linear_model import SGDClassifier\n",
        "\n",
        "\n",
        "sgd = Pipeline([('vect', CountVectorizer()),\n",
        "                ('tfidf', TfidfTransformer()),\n",
        "                ('clf', SGDClassifier(loss='hinge', \n",
        "                                      penalty='l2',alpha=1e-3, \n",
        "                                      random_state=42, max_iter=100, tol=None)),\n",
        "               ])\n",
        "import time\n",
        "start = 0\n",
        "stop = 0\n",
        "start = time.time()\n",
        "sgd.fit(X_train, y_train)\n",
        "stop = time.time()\n",
        "\n",
        "sgd_time = start - stop\n",
        "#%%time\n",
        "\n",
        "y_pred = sgd.predict(X_test)\n",
        "\n",
        "print('accuracy %s' % accuracy_score(y_pred, y_test))\n",
        "#print(classification_report(y_test, y_pred,target_names=labels))\n",
        "\n",
        "precision_sgd = precision_score(y_test, y_pred,pos_label='positive',\n",
        "                                           average='macro')\n",
        "recall_sgd = recall_score(y_test, y_pred,pos_label='positive',\n",
        "                                           average='macro')\n",
        "accuracy_sgd = accuracy_score(y_test, y_pred)\n",
        "\n",
        "accuracyl.append(accuracy_sgd)\n",
        "precisionl.append(precision_sgd)\n",
        "recalll.append(recall_sgd)"
      ],
      "metadata": {
        "colab": {
          "base_uri": "https://localhost:8080/"
        },
        "id": "S2ATtYy6qHd3",
        "outputId": "5cdd1cad-b885-43d6-a7bc-29b001287ba3"
      },
      "execution_count": 18,
      "outputs": [
        {
          "output_type": "stream",
          "name": "stdout",
          "text": [
            "accuracy 0.9353128313891834\n"
          ]
        },
        {
          "output_type": "stream",
          "name": "stderr",
          "text": [
            "/usr/local/lib/python3.8/dist-packages/sklearn/metrics/_classification.py:1370: UserWarning: Note that pos_label (set to 'positive') is ignored when average != 'binary' (got 'macro'). You may use labels=[pos_label] to specify a single positive class.\n",
            "  warnings.warn(\n",
            "/usr/local/lib/python3.8/dist-packages/sklearn/metrics/_classification.py:1370: UserWarning: Note that pos_label (set to 'positive') is ignored when average != 'binary' (got 'macro'). You may use labels=[pos_label] to specify a single positive class.\n",
            "  warnings.warn(\n"
          ]
        }
      ]
    },
    {
      "cell_type": "code",
      "source": [
        "from sklearn import svm, datasets\n",
        "\n",
        "\n",
        "svm = Pipeline([('vect', CountVectorizer()),\n",
        "                ('tfidf', TfidfTransformer()),\n",
        "                ('clf', SVC(kernel='rbf',degree = 5,coef0=0,shrinking=True,random_state=None)),\n",
        "               ])\n",
        "start = 0\n",
        "stop = 0\n",
        "start = time.time()\n",
        "svm.fit(X_train, y_train)\n",
        "stop = time.time()\n",
        "svm_time = start-stop\n",
        "#%%time\n",
        "\n",
        "y_pred = svm.predict(X_test)\n",
        "\n",
        "print('accuracy %s' % accuracy_score(y_pred, y_test))\n",
        "#print(classification_report(y_test, y_pred,target_names=labels))\n",
        "precision_svm = precision_score(y_test, y_pred,pos_label='positive',\n",
        "                                           average='macro')\n",
        "recall_svm = recall_score(y_test, y_pred,pos_label='positive',\n",
        "                                           average='macro')\n",
        "accuracy_svm = accuracy_score(y_test, y_pred)\n",
        "\n",
        "accuracyl.append(accuracy_svm)\n",
        "precisionl.append(precision_svm)\n",
        "recalll.append(recall_svm)"
      ],
      "metadata": {
        "colab": {
          "base_uri": "https://localhost:8080/"
        },
        "id": "JiHUXdOGLh7p",
        "outputId": "fdc019ea-e4c9-4e21-bc75-fd6eb0f76d48"
      },
      "execution_count": 19,
      "outputs": [
        {
          "output_type": "stream",
          "name": "stdout",
          "text": [
            "accuracy 0.9554612937433722\n"
          ]
        },
        {
          "output_type": "stream",
          "name": "stderr",
          "text": [
            "/usr/local/lib/python3.8/dist-packages/sklearn/metrics/_classification.py:1370: UserWarning: Note that pos_label (set to 'positive') is ignored when average != 'binary' (got 'macro'). You may use labels=[pos_label] to specify a single positive class.\n",
            "  warnings.warn(\n",
            "/usr/local/lib/python3.8/dist-packages/sklearn/metrics/_classification.py:1370: UserWarning: Note that pos_label (set to 'positive') is ignored when average != 'binary' (got 'macro'). You may use labels=[pos_label] to specify a single positive class.\n",
            "  warnings.warn(\n"
          ]
        }
      ]
    },
    {
      "cell_type": "code",
      "source": [
        "from sklearn.neighbors import KNeighborsClassifier\n",
        "\n",
        "knn = Pipeline([('vect', CountVectorizer()),\n",
        "                ('tfidf', TfidfTransformer()),\n",
        "                ('clf', KNeighborsClassifier(n_neighbors=5,metric='minkowski',n_jobs=None)),\n",
        "               ])\n",
        "start = 0\n",
        "stop = 0\n",
        "start = time.time()\n",
        "knn.fit(X_train, y_train)\n",
        "stop = time.time()\n",
        "\n",
        "knn_time = start - stop\n",
        "#%%time\n",
        "\n",
        "y_pred = knn.predict(X_test)\n",
        "\n",
        "\n",
        "\n",
        "print('accuracy %s' % accuracy_score(y_pred, y_test))\n",
        "\n",
        "precision_knn = precision_score(y_test, y_pred,pos_label='positive',\n",
        "                                           average='macro')\n",
        "recall_knn = recall_score(y_test, y_pred,pos_label='positive',\n",
        "                                           average='macro')\n",
        "accuracy_knn = accuracy_score(y_test, y_pred)\n",
        "\n",
        "accuracyl.append(accuracy_knn)\n",
        "precisionl.append(precision_knn)\n",
        "recalll.append(recall_knn)"
      ],
      "metadata": {
        "colab": {
          "base_uri": "https://localhost:8080/"
        },
        "id": "Y7lx-nDwNcDu",
        "outputId": "937edec3-8a66-43a1-e01d-8e6391576ce3"
      },
      "execution_count": 20,
      "outputs": [
        {
          "output_type": "stream",
          "name": "stdout",
          "text": [
            "accuracy 0.9241781548250265\n"
          ]
        },
        {
          "output_type": "stream",
          "name": "stderr",
          "text": [
            "/usr/local/lib/python3.8/dist-packages/sklearn/metrics/_classification.py:1370: UserWarning: Note that pos_label (set to 'positive') is ignored when average != 'binary' (got 'macro'). You may use labels=[pos_label] to specify a single positive class.\n",
            "  warnings.warn(\n",
            "/usr/local/lib/python3.8/dist-packages/sklearn/metrics/_classification.py:1370: UserWarning: Note that pos_label (set to 'positive') is ignored when average != 'binary' (got 'macro'). You may use labels=[pos_label] to specify a single positive class.\n",
            "  warnings.warn(\n"
          ]
        }
      ]
    },
    {
      "cell_type": "code",
      "source": [
        "#accuracy\n",
        "#Importing the required libraries\n",
        "from sklearn import datasets\n",
        "import pandas as pd\n",
        "from sklearn.linear_model import LogisticRegression\n",
        "from sklearn.model_selection import train_test_split\n",
        "from sklearn.metrics import precision_recall_curve\n",
        "from sklearn.metrics import plot_precision_recall_curve\n",
        "from sklearn.metrics import precision_score\n",
        "from sklearn.metrics import recall_score\n",
        "from sklearn.metrics import accuracy_score\n",
        "import matplotlib.pyplot as plt\n",
        "from sklearn.svm import SVC\n",
        "from sklearn.metrics import confusion_matrix\n",
        "precision = precision_score(y_test, y_pred,pos_label='positive',\n",
        "                                           average='micro')\n",
        "recall = recall_score(y_test, y_pred,pos_label='positive',\n",
        "                                           average='micro')\n",
        "accuracy = accuracy_score(y_test, y_pred)\n",
        "\n",
        "ul = df3['category'].unique()\n",
        "print(\"ul is\",ul)\n",
        "print('Precision: ',precision)\n",
        "print('Recall: ',recall)\n",
        "print('Accuracy: ',accuracy)\n",
        "cm = confusion_matrix(y_test, y_pred)\n",
        "import seaborn as sns\n",
        "cm_df = pd.DataFrame(cm,\n",
        "                     index = ul,\n",
        "                     columns = ul)\n",
        "#Plotting the confusion matrix\n",
        "plt.figure(figsize=(5,4))\n",
        "sns.heatmap(cm_df, annot=True, fmt = 'd')\n",
        "plt.title('Confusion Matrix')\n",
        "plt.ylabel('Actual Values')\n",
        "plt.xlabel('Predicted Values')\n",
        "plt.show()"
      ],
      "metadata": {
        "colab": {
          "base_uri": "https://localhost:8080/",
          "height": 507
        },
        "id": "06omFLPxQsDe",
        "outputId": "7f09cac0-8da8-49b0-c609-e3e289824c38"
      },
      "execution_count": 21,
      "outputs": [
        {
          "output_type": "stream",
          "name": "stderr",
          "text": [
            "/usr/local/lib/python3.8/dist-packages/sklearn/metrics/_classification.py:1370: UserWarning: Note that pos_label (set to 'positive') is ignored when average != 'binary' (got 'micro'). You may use labels=[pos_label] to specify a single positive class.\n",
            "  warnings.warn(\n",
            "/usr/local/lib/python3.8/dist-packages/sklearn/metrics/_classification.py:1370: UserWarning: Note that pos_label (set to 'positive') is ignored when average != 'binary' (got 'micro'). You may use labels=[pos_label] to specify a single positive class.\n",
            "  warnings.warn(\n"
          ]
        },
        {
          "output_type": "stream",
          "name": "stdout",
          "text": [
            "ul is ['Headphones' 'Speaker' 'TV' 'eReaders' 'Accessories']\n",
            "Precision:  0.9241781548250265\n",
            "Recall:  0.9241781548250265\n",
            "Accuracy:  0.9241781548250265\n"
          ]
        },
        {
          "output_type": "display_data",
          "data": {
            "text/plain": [
              "<Figure size 360x288 with 2 Axes>"
            ],
            "image/png": "[encoded data removed]"
          },
          "metadata": {
            "needs_background": "light"
          }
        }
      ]
    },
    {
      "cell_type": "code",
      "source": [
        "model_names = ['MultinomialNB','SGD','SVM-RBF','KNN']\n",
        "\n",
        "accuracyl = [accuracy_nbc,accuracy_knn,accuracy_sgd,accuracy_svm]\n",
        "precisionl = [precision_nbc,precision_knn,precision_sgd,precision_svm]\n",
        "recalll = [recall_nbc,recall_knn,recall_sgd,recall_svm]\n",
        "\n",
        "model_names = ['MultinomialNB','KNN','SGD','SVM-RBF']\n",
        "measures_list = [accuracyl,precisionl,recalll]\n",
        "\n",
        "\n",
        "metrics = pd.DataFrame(measures_list,index =['Accuracy','Precision','Recall'],\n",
        "                       columns = ['MultinomialNB','KNN','SGD','SVM-RBF']\n",
        "                       \n",
        "                    )\n",
        "metrics\n"
      ],
      "metadata": {
        "colab": {
          "base_uri": "https://localhost:8080/",
          "height": 143
        },
        "id": "is8jys22C8us",
        "outputId": "f4fda850-9146-4f0a-a77c-fda8c48dfce1"
      },
      "execution_count": 22,
      "outputs": [
        {
          "output_type": "execute_result",
          "data": {
            "text/plain": [
              "           MultinomialNB       KNN       SGD   SVM-RBF\n",
              "Accuracy        0.826087  0.924178  0.935313  0.955461\n",
              "Precision       0.916424  0.802457  0.917402  0.947950\n",
              "Recall          0.459038  0.806782  0.787893  0.848449"
            ],
            "text/html": [
              "\n",
              "  <div id=\"df-f9aaa6f3-2208-42a3-8b33-6ba0b9c0d35c\">\n",
              "    <div class=\"colab-df-container\">\n",
              "      <div>\n",
              "<style scoped>\n",
              "    .dataframe tbody tr th:only-of-type {\n",
              "        vertical-align: middle;\n",
              "    }\n",
              "\n",
              "    .dataframe tbody tr th {\n",
              "        vertical-align: top;\n",
              "    }\n",
              "\n",
              "    .dataframe thead th {\n",
              "        text-align: right;\n",
              "    }\n",
              "</style>\n",
              "<table border=\"1\" class=\"dataframe\">\n",
              "  <thead>\n",
              "    <tr style=\"text-align: right;\">\n",
              "      <th></th>\n",
              "      <th>MultinomialNB</th>\n",
              "      <th>KNN</th>\n",
              "      <th>SGD</th>\n",
              "      <th>SVM-RBF</th>\n",
              "    </tr>\n",
              "  </thead>\n",
              "  <tbody>\n",
              "    <tr>\n",
              "      <th>Accuracy</th>\n",
              "      <td>0.826087</td>\n",
              "      <td>0.924178</td>\n",
              "      <td>0.935313</td>\n",
              "      <td>0.955461</td>\n",
              "    </tr>\n",
              "    <tr>\n",
              "      <th>Precision</th>\n",
              "      <td>0.916424</td>\n",
              "      <td>0.802457</td>\n",
              "      <td>0.917402</td>\n",
              "      <td>0.947950</td>\n",
              "    </tr>\n",
              "    <tr>\n",
              "      <th>Recall</th>\n",
              "      <td>0.459038</td>\n",
              "      <td>0.806782</td>\n",
              "      <td>0.787893</td>\n",
              "      <td>0.848449</td>\n",
              "    </tr>\n",
              "  </tbody>\n",
              "</table>\n",
              "</div>\n",
              "      <button class=\"colab-df-convert\" onclick=\"convertToInteractive('df-f9aaa6f3-2208-42a3-8b33-6ba0b9c0d35c')\"\n",
              "              title=\"Convert this dataframe to an interactive table.\"\n",
              "              style=\"display:none;\">\n",
              "        \n",
              "  <svg xmlns=\"http://www.w3.org/2000/svg\" height=\"24px\"viewBox=\"0 0 24 24\"\n",
              "       width=\"24px\">\n",
              "    <path d=\"M0 0h24v24H0V0z\" fill=\"none\"/>\n",
              "    <path d=\"M18.56 5.44l.94 2.06.94-2.06 2.06-.94-2.06-.94-.94-2.06-.94 2.06-2.06.94zm-11 1L8.5 8.5l.94-2.06 2.06-.94-2.06-.94L8.5 2.5l-.94 2.06-2.06.94zm10 10l.94 2.06.94-2.06 2.06-.94-2.06-.94-.94-2.06-.94 2.06-2.06.94z\"/><path d=\"M17.41 7.96l-1.37-1.37c-.4-.4-.92-.59-1.43-.59-.52 0-1.04.2-1.43.59L10.3 9.45l-7.72 7.72c-.78.78-.78 2.05 0 2.83L4 21.41c.39.39.9.59 1.41.59.51 0 1.02-.2 1.41-.59l7.78-7.78 2.81-2.81c.8-.78.8-2.07 0-2.86zM5.41 20L4 18.59l7.72-7.72 1.47 1.35L5.41 20z\"/>\n",
              "  </svg>\n",
              "      </button>\n",
              "      \n",
              "  <style>\n",
              "    .colab-df-container {\n",
              "      display:flex;\n",
              "      flex-wrap:wrap;\n",
              "      gap: 12px;\n",
              "    }\n",
              "\n",
              "    .colab-df-convert {\n",
              "      background-color: #E8F0FE;\n",
              "      border: none;\n",
              "      border-radius: 50%;\n",
              "      cursor: pointer;\n",
              "      display: none;\n",
              "      fill: #1967D2;\n",
              "      height: 32px;\n",
              "      padding: 0 0 0 0;\n",
              "      width: 32px;\n",
              "    }\n",
              "\n",
              "    .colab-df-convert:hover {\n",
              "      background-color: #E2EBFA;\n",
              "      box-shadow: 0px 1px 2px rgba(60, 64, 67, 0.3), 0px 1px 3px 1px rgba(60, 64, 67, 0.15);\n",
              "      fill: #174EA6;\n",
              "    }\n",
              "\n",
              "    [theme=dark] .colab-df-convert {\n",
              "      background-color: #3B4455;\n",
              "      fill: #D2E3FC;\n",
              "    }\n",
              "\n",
              "    [theme=dark] .colab-df-convert:hover {\n",
              "      background-color: #434B5C;\n",
              "      box-shadow: 0px 1px 3px 1px rgba(0, 0, 0, 0.15);\n",
              "      filter: drop-shadow(0px 1px 2px rgba(0, 0, 0, 0.3));\n",
              "      fill: #FFFFFF;\n",
              "    }\n",
              "  </style>\n",
              "\n",
              "      <script>\n",
              "        const buttonEl =\n",
              "          document.querySelector('#df-f9aaa6f3-2208-42a3-8b33-6ba0b9c0d35c button.colab-df-convert');\n",
              "        buttonEl.style.display =\n",
              "          google.colab.kernel.accessAllowed ? 'block' : 'none';\n",
              "\n",
              "        async function convertToInteractive(key) {\n",
              "          const element = document.querySelector('#df-f9aaa6f3-2208-42a3-8b33-6ba0b9c0d35c');\n",
              "          const dataTable =\n",
              "            await google.colab.kernel.invokeFunction('convertToInteractive',\n",
              "                                                     [key], {});\n",
              "          if (!dataTable) return;\n",
              "\n",
              "          const docLinkHtml = 'Like what you see? Visit the ' +\n",
              "            '<a target=\"_blank\" href=https://colab.research.google.com/notebooks/data_table.ipynb>data table notebook</a>'\n",
              "            + ' to learn more about interactive tables.';\n",
              "          element.innerHTML = '';\n",
              "          dataTable['output_type'] = 'display_data';\n",
              "          await google.colab.output.renderOutput(dataTable, element);\n",
              "          const docLink = document.createElement('div');\n",
              "          docLink.innerHTML = docLinkHtml;\n",
              "          element.appendChild(docLink);\n",
              "        }\n",
              "      </script>\n",
              "    </div>\n",
              "  </div>\n",
              "  "
            ]
          },
          "metadata": {},
          "execution_count": 22
        }
      ]
    },
    {
      "cell_type": "code",
      "source": [
        "time_list = [nbc_time*-1,knn_time*-1,sgd_time*-1,svm_time*-1]\n",
        "time_to_run = pd.DataFrame(time_list,index = ['MultinomialNB','KNN','SGD','SVM-RBF'],\n",
        "                       columns = ['Time'])\n",
        "time_to_run"
      ],
      "metadata": {
        "colab": {
          "base_uri": "https://localhost:8080/",
          "height": 175
        },
        "id": "Jrhl5jXTfzQv",
        "outputId": "2d229eac-d9b3-4152-9f37-9f2e2c70ca66"
      },
      "execution_count": 24,
      "outputs": [
        {
          "output_type": "execute_result",
          "data": {
            "text/plain": [
              "                   Time\n",
              "MultinomialNB  0.267946\n",
              "KNN            0.203506\n",
              "SGD            0.501020\n",
              "SVM-RBF        4.246822"
            ],
            "text/html": [
              "\n",
              "  <div id=\"df-9cf49bbe-d84e-4a9b-b3a5-d88efb292a57\">\n",
              "    <div class=\"colab-df-container\">\n",
              "      <div>\n",
              "<style scoped>\n",
              "    .dataframe tbody tr th:only-of-type {\n",
              "        vertical-align: middle;\n",
              "    }\n",
              "\n",
              "    .dataframe tbody tr th {\n",
              "        vertical-align: top;\n",
              "    }\n",
              "\n",
              "    .dataframe thead th {\n",
              "        text-align: right;\n",
              "    }\n",
              "</style>\n",
              "<table border=\"1\" class=\"dataframe\">\n",
              "  <thead>\n",
              "    <tr style=\"text-align: right;\">\n",
              "      <th></th>\n",
              "      <th>Time</th>\n",
              "    </tr>\n",
              "  </thead>\n",
              "  <tbody>\n",
              "    <tr>\n",
              "      <th>MultinomialNB</th>\n",
              "      <td>0.267946</td>\n",
              "    </tr>\n",
              "    <tr>\n",
              "      <th>KNN</th>\n",
              "      <td>0.203506</td>\n",
              "    </tr>\n",
              "    <tr>\n",
              "      <th>SGD</th>\n",
              "      <td>0.501020</td>\n",
              "    </tr>\n",
              "    <tr>\n",
              "      <th>SVM-RBF</th>\n",
              "      <td>4.246822</td>\n",
              "    </tr>\n",
              "  </tbody>\n",
              "</table>\n",
              "</div>\n",
              "      <button class=\"colab-df-convert\" onclick=\"convertToInteractive('df-9cf49bbe-d84e-4a9b-b3a5-d88efb292a57')\"\n",
              "              title=\"Convert this dataframe to an interactive table.\"\n",
              "              style=\"display:none;\">\n",
              "        \n",
              "  <svg xmlns=\"http://www.w3.org/2000/svg\" height=\"24px\"viewBox=\"0 0 24 24\"\n",
              "       width=\"24px\">\n",
              "    <path d=\"M0 0h24v24H0V0z\" fill=\"none\"/>\n",
              "    <path d=\"M18.56 5.44l.94 2.06.94-2.06 2.06-.94-2.06-.94-.94-2.06-.94 2.06-2.06.94zm-11 1L8.5 8.5l.94-2.06 2.06-.94-2.06-.94L8.5 2.5l-.94 2.06-2.06.94zm10 10l.94 2.06.94-2.06 2.06-.94-2.06-.94-.94-2.06-.94 2.06-2.06.94z\"/><path d=\"M17.41 7.96l-1.37-1.37c-.4-.4-.92-.59-1.43-.59-.52 0-1.04.2-1.43.59L10.3 9.45l-7.72 7.72c-.78.78-.78 2.05 0 2.83L4 21.41c.39.39.9.59 1.41.59.51 0 1.02-.2 1.41-.59l7.78-7.78 2.81-2.81c.8-.78.8-2.07 0-2.86zM5.41 20L4 18.59l7.72-7.72 1.47 1.35L5.41 20z\"/>\n",
              "  </svg>\n",
              "      </button>\n",
              "      \n",
              "  <style>\n",
              "    .colab-df-container {\n",
              "      display:flex;\n",
              "      flex-wrap:wrap;\n",
              "      gap: 12px;\n",
              "    }\n",
              "\n",
              "    .colab-df-convert {\n",
              "      background-color: #E8F0FE;\n",
              "      border: none;\n",
              "      border-radius: 50%;\n",
              "      cursor: pointer;\n",
              "      display: none;\n",
              "      fill: #1967D2;\n",
              "      height: 32px;\n",
              "      padding: 0 0 0 0;\n",
              "      width: 32px;\n",
              "    }\n",
              "\n",
              "    .colab-df-convert:hover {\n",
              "      background-color: #E2EBFA;\n",
              "      box-shadow: 0px 1px 2px rgba(60, 64, 67, 0.3), 0px 1px 3px 1px rgba(60, 64, 67, 0.15);\n",
              "      fill: #174EA6;\n",
              "    }\n",
              "\n",
              "    [theme=dark] .colab-df-convert {\n",
              "      background-color: #3B4455;\n",
              "      fill: #D2E3FC;\n",
              "    }\n",
              "\n",
              "    [theme=dark] .colab-df-convert:hover {\n",
              "      background-color: #434B5C;\n",
              "      box-shadow: 0px 1px 3px 1px rgba(0, 0, 0, 0.15);\n",
              "      filter: drop-shadow(0px 1px 2px rgba(0, 0, 0, 0.3));\n",
              "      fill: #FFFFFF;\n",
              "    }\n",
              "  </style>\n",
              "\n",
              "      <script>\n",
              "        const buttonEl =\n",
              "          document.querySelector('#df-9cf49bbe-d84e-4a9b-b3a5-d88efb292a57 button.colab-df-convert');\n",
              "        buttonEl.style.display =\n",
              "          google.colab.kernel.accessAllowed ? 'block' : 'none';\n",
              "\n",
              "        async function convertToInteractive(key) {\n",
              "          const element = document.querySelector('#df-9cf49bbe-d84e-4a9b-b3a5-d88efb292a57');\n",
              "          const dataTable =\n",
              "            await google.colab.kernel.invokeFunction('convertToInteractive',\n",
              "                                                     [key], {});\n",
              "          if (!dataTable) return;\n",
              "\n",
              "          const docLinkHtml = 'Like what you see? Visit the ' +\n",
              "            '<a target=\"_blank\" href=https://colab.research.google.com/notebooks/data_table.ipynb>data table notebook</a>'\n",
              "            + ' to learn more about interactive tables.';\n",
              "          element.innerHTML = '';\n",
              "          dataTable['output_type'] = 'display_data';\n",
              "          await google.colab.output.renderOutput(dataTable, element);\n",
              "          const docLink = document.createElement('div');\n",
              "          docLink.innerHTML = docLinkHtml;\n",
              "          element.appendChild(docLink);\n",
              "        }\n",
              "      </script>\n",
              "    </div>\n",
              "  </div>\n",
              "  "
            ]
          },
          "metadata": {},
          "execution_count": 24
        }
      ]
    },
    {
      "cell_type": "code",
      "source": [
        "\n",
        "model_names = ['MultinomialNB','KNN','SGD','SVM-RBF']\n",
        "\n",
        "\n",
        "measures_list = [accuracyl,precisionl,recalll,time_list]\n",
        "\n",
        "metrics = pd.DataFrame(measures_list,index =['Accuracy','Precision','Recall','Time'],\n",
        "                       columns = ['MultinomialNB','KNN','SGD','SVM-RBF']\n",
        "                       \n",
        "                    )\n",
        "metrics"
      ],
      "metadata": {
        "colab": {
          "base_uri": "https://localhost:8080/",
          "height": 175
        },
        "id": "ZpOr7u2BkQA6",
        "outputId": "0e215550-6007-4a1d-d2a6-db988d2e8363"
      },
      "execution_count": 25,
      "outputs": [
        {
          "output_type": "execute_result",
          "data": {
            "text/plain": [
              "           MultinomialNB       KNN       SGD   SVM-RBF\n",
              "Accuracy        0.826087  0.924178  0.935313  0.955461\n",
              "Precision       0.916424  0.802457  0.917402  0.947950\n",
              "Recall          0.459038  0.806782  0.787893  0.848449\n",
              "Time            0.267946  0.203506  0.501020  4.246822"
            ],
            "text/html": [
              "\n",
              "  <div id=\"df-ab661d6a-9129-46a2-82d7-395dd875b1de\">\n",
              "    <div class=\"colab-df-container\">\n",
              "      <div>\n",
              "<style scoped>\n",
              "    .dataframe tbody tr th:only-of-type {\n",
              "        vertical-align: middle;\n",
              "    }\n",
              "\n",
              "    .dataframe tbody tr th {\n",
              "        vertical-align: top;\n",
              "    }\n",
              "\n",
              "    .dataframe thead th {\n",
              "        text-align: right;\n",
              "    }\n",
              "</style>\n",
              "<table border=\"1\" class=\"dataframe\">\n",
              "  <thead>\n",
              "    <tr style=\"text-align: right;\">\n",
              "      <th></th>\n",
              "      <th>MultinomialNB</th>\n",
              "      <th>KNN</th>\n",
              "      <th>SGD</th>\n",
              "      <th>SVM-RBF</th>\n",
              "    </tr>\n",
              "  </thead>\n",
              "  <tbody>\n",
              "    <tr>\n",
              "      <th>Accuracy</th>\n",
              "      <td>0.826087</td>\n",
              "      <td>0.924178</td>\n",
              "      <td>0.935313</td>\n",
              "      <td>0.955461</td>\n",
              "    </tr>\n",
              "    <tr>\n",
              "      <th>Precision</th>\n",
              "      <td>0.916424</td>\n",
              "      <td>0.802457</td>\n",
              "      <td>0.917402</td>\n",
              "      <td>0.947950</td>\n",
              "    </tr>\n",
              "    <tr>\n",
              "      <th>Recall</th>\n",
              "      <td>0.459038</td>\n",
              "      <td>0.806782</td>\n",
              "      <td>0.787893</td>\n",
              "      <td>0.848449</td>\n",
              "    </tr>\n",
              "    <tr>\n",
              "      <th>Time</th>\n",
              "      <td>0.267946</td>\n",
              "      <td>0.203506</td>\n",
              "      <td>0.501020</td>\n",
              "      <td>4.246822</td>\n",
              "    </tr>\n",
              "  </tbody>\n",
              "</table>\n",
              "</div>\n",
              "      <button class=\"colab-df-convert\" onclick=\"convertToInteractive('df-ab661d6a-9129-46a2-82d7-395dd875b1de')\"\n",
              "              title=\"Convert this dataframe to an interactive table.\"\n",
              "              style=\"display:none;\">\n",
              "        \n",
              "  <svg xmlns=\"http://www.w3.org/2000/svg\" height=\"24px\"viewBox=\"0 0 24 24\"\n",
              "       width=\"24px\">\n",
              "    <path d=\"M0 0h24v24H0V0z\" fill=\"none\"/>\n",
              "    <path d=\"M18.56 5.44l.94 2.06.94-2.06 2.06-.94-2.06-.94-.94-2.06-.94 2.06-2.06.94zm-11 1L8.5 8.5l.94-2.06 2.06-.94-2.06-.94L8.5 2.5l-.94 2.06-2.06.94zm10 10l.94 2.06.94-2.06 2.06-.94-2.06-.94-.94-2.06-.94 2.06-2.06.94z\"/><path d=\"M17.41 7.96l-1.37-1.37c-.4-.4-.92-.59-1.43-.59-.52 0-1.04.2-1.43.59L10.3 9.45l-7.72 7.72c-.78.78-.78 2.05 0 2.83L4 21.41c.39.39.9.59 1.41.59.51 0 1.02-.2 1.41-.59l7.78-7.78 2.81-2.81c.8-.78.8-2.07 0-2.86zM5.41 20L4 18.59l7.72-7.72 1.47 1.35L5.41 20z\"/>\n",
              "  </svg>\n",
              "      </button>\n",
              "      \n",
              "  <style>\n",
              "    .colab-df-container {\n",
              "      display:flex;\n",
              "      flex-wrap:wrap;\n",
              "      gap: 12px;\n",
              "    }\n",
              "\n",
              "    .colab-df-convert {\n",
              "      background-color: #E8F0FE;\n",
              "      border: none;\n",
              "      border-radius: 50%;\n",
              "      cursor: pointer;\n",
              "      display: none;\n",
              "      fill: #1967D2;\n",
              "      height: 32px;\n",
              "      padding: 0 0 0 0;\n",
              "      width: 32px;\n",
              "    }\n",
              "\n",
              "    .colab-df-convert:hover {\n",
              "      background-color: #E2EBFA;\n",
              "      box-shadow: 0px 1px 2px rgba(60, 64, 67, 0.3), 0px 1px 3px 1px rgba(60, 64, 67, 0.15);\n",
              "      fill: #174EA6;\n",
              "    }\n",
              "\n",
              "    [theme=dark] .colab-df-convert {\n",
              "      background-color: #3B4455;\n",
              "      fill: #D2E3FC;\n",
              "    }\n",
              "\n",
              "    [theme=dark] .colab-df-convert:hover {\n",
              "      background-color: #434B5C;\n",
              "      box-shadow: 0px 1px 3px 1px rgba(0, 0, 0, 0.15);\n",
              "      filter: drop-shadow(0px 1px 2px rgba(0, 0, 0, 0.3));\n",
              "      fill: #FFFFFF;\n",
              "    }\n",
              "  </style>\n",
              "\n",
              "      <script>\n",
              "        const buttonEl =\n",
              "          document.querySelector('#df-ab661d6a-9129-46a2-82d7-395dd875b1de button.colab-df-convert');\n",
              "        buttonEl.style.display =\n",
              "          google.colab.kernel.accessAllowed ? 'block' : 'none';\n",
              "\n",
              "        async function convertToInteractive(key) {\n",
              "          const element = document.querySelector('#df-ab661d6a-9129-46a2-82d7-395dd875b1de');\n",
              "          const dataTable =\n",
              "            await google.colab.kernel.invokeFunction('convertToInteractive',\n",
              "                                                     [key], {});\n",
              "          if (!dataTable) return;\n",
              "\n",
              "          const docLinkHtml = 'Like what you see? Visit the ' +\n",
              "            '<a target=\"_blank\" href=https://colab.research.google.com/notebooks/data_table.ipynb>data table notebook</a>'\n",
              "            + ' to learn more about interactive tables.';\n",
              "          element.innerHTML = '';\n",
              "          dataTable['output_type'] = 'display_data';\n",
              "          await google.colab.output.renderOutput(dataTable, element);\n",
              "          const docLink = document.createElement('div');\n",
              "          docLink.innerHTML = docLinkHtml;\n",
              "          element.appendChild(docLink);\n",
              "        }\n",
              "      </script>\n",
              "    </div>\n",
              "  </div>\n",
              "  "
            ]
          },
          "metadata": {},
          "execution_count": 25
        }
      ]
    },
    {
      "cell_type": "code",
      "source": [
        "#https://www.geeksforgeeks.org/plotting-multiple-bar-charts-using-matplotlib-in-python/\n",
        "import matplotlib.pyplot as plt\n",
        "%matplotlib inline\n",
        "r = np.arange(len(model_names))\n",
        "width = 0.25\n",
        "plt.figure(figsize=(5,4))\n",
        "\n",
        "plt.bar(r-0.30, accuracyl,0.3, label = 'Accuracy')\n",
        "plt.bar(r+0.00, precisionl,0.3, label = 'Precisionl')\n",
        "plt.bar(r+0.30, recalll,0.3, label = 'Recall')\n",
        "\n",
        "plt.xticks(r,model_names)\n",
        "plt.xlabel(\"Models\")\n",
        "plt.ylabel(\"Measure\")\n",
        "plt.title(\"Accuracy, Precision, Recall Per Model\")\n",
        "plt.legend(bbox_to_anchor=(1.3, 1.0), loc='lower right')\n",
        "#plt.legend(fontsize = 6)\n",
        "plt.show()\n"
      ],
      "metadata": {
        "colab": {
          "base_uri": "https://localhost:8080/",
          "height": 332
        },
        "id": "Cp13wtr3Y0-g",
        "outputId": "7686f883-0d93-44ee-d717-2f16cd8806e8"
      },
      "execution_count": null,
      "outputs": [
        {
          "output_type": "display_data",
          "data": {
            "text/plain": [
              "<Figure size 360x288 with 1 Axes>"
            ],
            "image/png": "[encoded data removed]"
          },
          "metadata": {
            "needs_background": "light"
          }
        }
      ]
    },
    {
      "cell_type": "code",
      "source": [
        "plt.figure(figsize=(5,4))\n",
        "sns.barplot(x=model_names,y = accuracyl)\n",
        "plt.title('Accuracy per Model')\n",
        "plt.ylabel('Accuracy')\n",
        "plt.xlabel('Model')\n",
        "plt.show()"
      ],
      "metadata": {
        "colab": {
          "base_uri": "https://localhost:8080/",
          "height": 295
        },
        "id": "OvdFxxFEH_d5",
        "outputId": "0ff2cee3-51b1-4817-ef03-614136928570"
      },
      "execution_count": 218,
      "outputs": [
        {
          "output_type": "display_data",
          "data": {
            "text/plain": [
              "<Figure size 360x288 with 1 Axes>"
            ],
            "image/png": "[encoded data removed]"
          },
          "metadata": {
            "needs_background": "light"
          }
        }
      ]
    },
    {
      "cell_type": "code",
      "source": [
        "plt.figure(figsize=(5,4))\n",
        "sns.barplot(x=model_names,y = precisionl)\n",
        "plt.title('Precision per Model')\n",
        "plt.ylabel('Precision')\n",
        "plt.xlabel('Model')\n",
        "plt.show()"
      ],
      "metadata": {
        "colab": {
          "base_uri": "https://localhost:8080/",
          "height": 295
        },
        "id": "WnODUv-YJPJA",
        "outputId": "70df283f-f37e-4ee1-b27e-8633b7b4fadd"
      },
      "execution_count": 219,
      "outputs": [
        {
          "output_type": "display_data",
          "data": {
            "text/plain": [
              "<Figure size 360x288 with 1 Axes>"
            ],
            "image/png": "[encoded data removed]"
          },
          "metadata": {
            "needs_background": "light"
          }
        }
      ]
    },
    {
      "cell_type": "code",
      "source": [
        "plt.figure(figsize=(5,4))\n",
        "sns.barplot(x=model_names,y = recalll)\n",
        "plt.title('Recall per Model')\n",
        "plt.ylabel('Recall')\n",
        "plt.xlabel('Model')\n",
        "plt.show()"
      ],
      "metadata": {
        "colab": {
          "base_uri": "https://localhost:8080/",
          "height": 295
        },
        "id": "KIGtSMgXJYMt",
        "outputId": "56c305aa-1981-4c93-d9c6-bb2e9b56bf2e"
      },
      "execution_count": null,
      "outputs": [
        {
          "output_type": "display_data",
          "data": {
            "text/plain": [
              "<Figure size 360x288 with 1 Axes>"
            ],
            "image/png": "[encoded data removed]"
          },
          "metadata": {
            "needs_background": "light"
          }
        }
      ]
    }
  ]
}